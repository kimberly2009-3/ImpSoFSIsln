{
 "cells": [
  {
   "cell_type": "code",
   "execution_count": 3,
   "id": "55093dcb-365e-44cc-a10a-f3734d1c5f53",
   "metadata": {},
   "outputs": [
    {
     "name": "stdout",
     "output_type": "stream",
     "text": [
      "Defaulting to user installation because normal site-packages is not writeable\n",
      "Requirement already satisfied: pandas in c:\\programdata\\anaconda3\\lib\\site-packages (2.2.2)\n",
      "Requirement already satisfied: numpy>=1.26.0 in c:\\programdata\\anaconda3\\lib\\site-packages (from pandas) (1.26.4)\n",
      "Requirement already satisfied: python-dateutil>=2.8.2 in c:\\programdata\\anaconda3\\lib\\site-packages (from pandas) (2.9.0.post0)\n",
      "Requirement already satisfied: pytz>=2020.1 in c:\\programdata\\anaconda3\\lib\\site-packages (from pandas) (2024.1)\n",
      "Requirement already satisfied: tzdata>=2022.7 in c:\\programdata\\anaconda3\\lib\\site-packages (from pandas) (2023.3)\n",
      "Requirement already satisfied: six>=1.5 in c:\\programdata\\anaconda3\\lib\\site-packages (from python-dateutil>=2.8.2->pandas) (1.16.0)\n",
      "Note: you may need to restart the kernel to use updated packages.\n"
     ]
    }
   ],
   "source": [
    "pip install pandas"
   ]
  },
  {
   "cell_type": "code",
   "execution_count": 5,
   "id": "23101b58-911e-4e2d-9b34-ce1ff854ab8b",
   "metadata": {},
   "outputs": [],
   "source": [
    "import pandas as pd"
   ]
  },
  {
   "cell_type": "code",
   "execution_count": null,
   "id": "fd79daf7-0c67-40a9-baa4-534f91bed8f2",
   "metadata": {},
   "outputs": [],
   "source": [
    "df = pd.read_csv(\"listings.csv\")\n",
    "\n",
    "df.head()"
   ]
  },
  {
   "cell_type": "code",
   "execution_count": null,
   "id": "049ff77d-05b8-436e-9b03-d25e1aed2809",
   "metadata": {},
   "outputs": [],
   "source": [
    "df.tail(n = 10) # The last 10 rows of the DataFrame"
   ]
  },
  {
   "cell_type": "code",
   "execution_count": null,
   "id": "2f19af8f-4076-4930-afd8-b564b1420f1e",
   "metadata": {},
   "outputs": [],
   "source": [
    "df.describe()"
   ]
  },
  {
   "cell_type": "code",
   "execution_count": null,
   "id": "92e76c85-0a8f-4feb-911a-4bf5ff454ce3",
   "metadata": {},
   "outputs": [],
   "source": [
    "df.info(show_counts=True, memory_usage=True, verbose=True)"
   ]
  },
  {
   "cell_type": "code",
   "execution_count": null,
   "id": "d514f7d3-6d75-41d4-a746-1e98cb305387",
   "metadata": {},
   "outputs": [],
   "source": [
    "df.shape # Get the number of rows and columns"
   ]
  },
  {
   "cell_type": "code",
   "execution_count": null,
   "id": "fcec6f4a-8715-4561-a4c3-0e7dc216ccc7",
   "metadata": {},
   "outputs": [],
   "source": [
    "df.columns"
   ]
  },
  {
   "cell_type": "code",
   "execution_count": null,
   "id": "76204a40-1928-478e-bfd3-e8c52e167f16",
   "metadata": {},
   "outputs": [],
   "source": [
    "list(df.columns)"
   ]
  },
  {
   "cell_type": "code",
   "execution_count": null,
   "id": "f8f2dc29-0441-4f46-9360-f7762ed1aec4",
   "metadata": {},
   "outputs": [],
   "source": [
    "df[['name']]"
   ]
  },
  {
   "cell_type": "code",
   "execution_count": null,
   "id": "4db534eb-262a-485a-8311-8504b87ce981",
   "metadata": {},
   "outputs": [],
   "source": [
    "df[['name', 'neighbourhood_group']]"
   ]
  },
  {
   "cell_type": "code",
   "execution_count": null,
   "id": "28bd1a1e-44e9-4dce-ad32-c3b06204c70a",
   "metadata": {},
   "outputs": [],
   "source": [
    "df[['last_review', 'reviews_per_month']]"
   ]
  },
  {
   "cell_type": "code",
   "execution_count": 6,
   "id": "18ac6f79-59f2-4797-bc1d-fec27f0af3d9",
   "metadata": {},
   "outputs": [
    {
     "data": {
      "text/html": [
       "<div>\n",
       "<style scoped>\n",
       "    .dataframe tbody tr th:only-of-type {\n",
       "        vertical-align: middle;\n",
       "    }\n",
       "\n",
       "    .dataframe tbody tr th {\n",
       "        vertical-align: top;\n",
       "    }\n",
       "\n",
       "    .dataframe thead th {\n",
       "        text-align: right;\n",
       "    }\n",
       "</style>\n",
       "<table border=\"1\" class=\"dataframe\">\n",
       "  <thead>\n",
       "    <tr style=\"text-align: right;\">\n",
       "      <th></th>\n",
       "      <th>reviews_per_month</th>\n",
       "      <th>last_review</th>\n",
       "    </tr>\n",
       "  </thead>\n",
       "  <tbody>\n",
       "    <tr>\n",
       "      <th>0</th>\n",
       "      <td>3.60</td>\n",
       "      <td>2025-02-24</td>\n",
       "    </tr>\n",
       "    <tr>\n",
       "      <th>1</th>\n",
       "      <td>1.65</td>\n",
       "      <td>2024-06-09</td>\n",
       "    </tr>\n",
       "    <tr>\n",
       "      <th>2</th>\n",
       "      <td>0.66</td>\n",
       "      <td>2024-10-01</td>\n",
       "    </tr>\n",
       "    <tr>\n",
       "      <th>3</th>\n",
       "      <td>2.03</td>\n",
       "      <td>2025-02-17</td>\n",
       "    </tr>\n",
       "    <tr>\n",
       "      <th>4</th>\n",
       "      <td>0.29</td>\n",
       "      <td>2024-04-14</td>\n",
       "    </tr>\n",
       "    <tr>\n",
       "      <th>...</th>\n",
       "      <td>...</td>\n",
       "      <td>...</td>\n",
       "    </tr>\n",
       "    <tr>\n",
       "      <th>15426</th>\n",
       "      <td>NaN</td>\n",
       "      <td>NaT</td>\n",
       "    </tr>\n",
       "    <tr>\n",
       "      <th>15427</th>\n",
       "      <td>NaN</td>\n",
       "      <td>NaT</td>\n",
       "    </tr>\n",
       "    <tr>\n",
       "      <th>15428</th>\n",
       "      <td>1.00</td>\n",
       "      <td>2025-03-10</td>\n",
       "    </tr>\n",
       "    <tr>\n",
       "      <th>15429</th>\n",
       "      <td>NaN</td>\n",
       "      <td>NaT</td>\n",
       "    </tr>\n",
       "    <tr>\n",
       "      <th>15430</th>\n",
       "      <td>1.00</td>\n",
       "      <td>2025-03-06</td>\n",
       "    </tr>\n",
       "  </tbody>\n",
       "</table>\n",
       "<p>15431 rows × 2 columns</p>\n",
       "</div>"
      ],
      "text/plain": [
       "       reviews_per_month last_review\n",
       "0                   3.60  2025-02-24\n",
       "1                   1.65  2024-06-09\n",
       "2                   0.66  2024-10-01\n",
       "3                   2.03  2025-02-17\n",
       "4                   0.29  2024-04-14\n",
       "...                  ...         ...\n",
       "15426                NaN         NaT\n",
       "15427                NaN         NaT\n",
       "15428               1.00  2025-03-10\n",
       "15429                NaN         NaT\n",
       "15430               1.00  2025-03-06\n",
       "\n",
       "[15431 rows x 2 columns]"
      ]
     },
     "execution_count": 6,
     "metadata": {},
     "output_type": "execute_result"
    }
   ],
   "source": [
    "from dateutil.parser import parse\n",
    "import datetime\n",
    "\n",
    "df = pd.read_csv(\"listings.csv\")\n",
    "\n",
    "df2 = pd.DataFrame(df['reviews_per_month'] )\n",
    "df2['last_review'] = pd.to_datetime(df[\"last_review\"])\n",
    "df2"
   ]
  },
  {
   "cell_type": "code",
   "execution_count": 9,
   "id": "cc08bba5",
   "metadata": {},
   "outputs": [
    {
     "data": {
      "text/plain": [
       "last_review          2024-12-31 00:00:00\n",
       "number_of_reviews                    432\n",
       "dtype: object"
      ]
     },
     "execution_count": 9,
     "metadata": {},
     "output_type": "execute_result"
    }
   ],
   "source": [
    "df['last_review'] =pd.to_datetime(df['last_review'])\n",
    "dsf = df[(df['last_review'].dt.year == 2024)&(df['last_review'].dt.is_month_end)]\n",
    "dsf[['last_review','number_of_reviews']].max()"
   ]
  },
  {
   "cell_type": "code",
   "execution_count": 10,
   "id": "b710c0df",
   "metadata": {},
   "outputs": [
    {
     "data": {
      "text/plain": [
       "13579"
      ]
     },
     "execution_count": 10,
     "metadata": {},
     "output_type": "execute_result"
    }
   ],
   "source": [
    "df['last_review'] = pd.to_datetime(df['last_review'])\n",
    "dsf = df[(df['last_review'].dt.year == 2024)&(df['last_review'].dt.day_of_week == 5)]\n",
    "dsf['number_of_reviews'].sum()"
   ]
  }
 ],
 "metadata": {
  "kernelspec": {
   "display_name": "Python 3 (ipykernel)",
   "language": "python",
   "name": "python3"
  },
  "language_info": {
   "codemirror_mode": {
    "name": "ipython",
    "version": 3
   },
   "file_extension": ".py",
   "mimetype": "text/x-python",
   "name": "python",
   "nbconvert_exporter": "python",
   "pygments_lexer": "ipython3",
   "version": "3.12.7"
  }
 },
 "nbformat": 4,
 "nbformat_minor": 5
}
